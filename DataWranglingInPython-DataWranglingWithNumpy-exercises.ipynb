{
 "cells": [
  {
   "cell_type": "code",
   "execution_count": 1,
   "id": "73b64685",
   "metadata": {},
   "outputs": [],
   "source": [
    "# import statements\n",
    "import numpy as np\n",
    "import random as rand"
   ]
  },
  {
   "cell_type": "markdown",
   "id": "7fcc00c5",
   "metadata": {},
   "source": [
    "#### Please refer to module 1 of DataWranglingInPython - DataWranglingWithNumpy for Tasks 1-6 \n",
    "#### Task 1\n",
    "##### Create an array of 25 numbers between 1 and 100 (including 100) and save to `arr1` variable.\n",
    "##### Print the type and data type of `arr1`.\n"
   ]
  },
  {
   "cell_type": "markdown",
   "id": "3ba4a6ae",
   "metadata": {},
   "source": [
    "#### Result:\n"
   ]
  },
  {
   "cell_type": "code",
   "execution_count": 2,
   "id": "108400d3",
   "metadata": {},
   "outputs": [
    {
     "name": "stdout",
     "output_type": "stream",
     "text": [
      "<class 'numpy.ndarray'>\n",
      "[50 33 60 80 57 26 69 37 57 50 42 93 51 59 80  3 95 82  5 59 67  9 97 80\n",
      " 77]\n"
     ]
    }
   ],
   "source": [
    "# creating a list name arr1\n",
    "arr1 = []\n",
    "for i in range(0,25):\n",
    "    n = rand.randint(1,100)\n",
    "    arr1.append(n)\n",
    "    \n",
    "# converting the list (arr1) into an array and then printing the type and values within the array    \n",
    "arr1 = np.array(arr1)\n",
    "print(type(arr1))\n",
    "print(arr1)"
   ]
  },
  {
   "cell_type": "markdown",
   "id": "ea2bc329",
   "metadata": {},
   "source": [
    "#### Task 2\n",
    "##### Create an array of 20 numbers from 50 to 70 (excluding 70).\n",
    "##### Use the `arange` function and assign the output to `arr2` variable.\n"
   ]
  },
  {
   "cell_type": "markdown",
   "id": "87db27cd",
   "metadata": {},
   "source": [
    "#### Result:\n"
   ]
  },
  {
   "cell_type": "code",
   "execution_count": 3,
   "id": "bfedcecb",
   "metadata": {},
   "outputs": [
    {
     "name": "stdout",
     "output_type": "stream",
     "text": [
      "[50 51 52 53 54 55 56 57 58 59 60 61 62 63 64 65 66 67 68 69]\n"
     ]
    }
   ],
   "source": [
    "# creating nother array (arr2) using np.arange() function\n",
    "arr2 = np.arange(50,70)\n",
    "print(arr2)"
   ]
  },
  {
   "cell_type": "markdown",
   "id": "bde74527",
   "metadata": {},
   "source": [
    "#### Task 3\n",
    "##### Create an array of 10 numbers between 0 and 20 (including 20) and assign to `arr3` variable.\n",
    "##### Use `linspace` function.\n",
    "##### Find the max, min, and sum of the array.\n"
   ]
  },
  {
   "cell_type": "markdown",
   "id": "1a12c6dc",
   "metadata": {},
   "source": [
    "#### Result:\n"
   ]
  },
  {
   "cell_type": "code",
   "execution_count": 4,
   "id": "bc9da665",
   "metadata": {},
   "outputs": [
    {
     "name": "stdout",
     "output_type": "stream",
     "text": [
      "min: 1.0\n",
      "max: 20.0\n",
      "sum: 105.0\n"
     ]
    }
   ],
   "source": [
    "# Creating another array (arr3) using np.linspace() function\n",
    "# Then printing the max, min, and sum functions from python's built-in functionality\n",
    "arr3 = np.linspace(1, 20, 10)\n",
    "print('min:',min(arr3))\n",
    "\n",
    "print('max:',max(arr3))\n",
    "\n",
    "print('sum:',sum(arr3))"
   ]
  },
  {
   "cell_type": "markdown",
   "id": "6d99beca",
   "metadata": {},
   "source": [
    "#### Task 4\n",
    "##### Create two arrays of size 4 with the numbers 4, 5, 6, 4 in `array1` and 7, 2, 12, 16 in `array2`.\n",
    "##### Find the `sum`,  `product`, `difference`, and `quotient` of `array1` and `array2`. Save the results as `array_sum`, `product`, `difference`, and `quotient` variables, respectively.\n",
    "##### Print the results.\n"
   ]
  },
  {
   "cell_type": "markdown",
   "id": "f332310b",
   "metadata": {},
   "source": [
    "#### Result:\n"
   ]
  },
  {
   "cell_type": "code",
   "execution_count": 5,
   "id": "6d16a38a",
   "metadata": {},
   "outputs": [],
   "source": [
    "# creating two arrays from the prompt as array1 and array2\n",
    "array1 = np.array([4,5,6,4])\n",
    "array2 = np.array([7,2,12,16])\n",
    "\n",
    "# doing mathematical operations on the arrays\n",
    "array_sum = sum(array1,array2)\n",
    "product = array1 * (array2)\n",
    "difference = array1 - (array2)\n",
    "quotient = array1 / (array2)"
   ]
  },
  {
   "cell_type": "code",
   "execution_count": 6,
   "id": "c93d809c-2bfe-4f3d-af95-393022c5034e",
   "metadata": {},
   "outputs": [
    {
     "name": "stdout",
     "output_type": "stream",
     "text": [
      "sum: [26 21 31 35]\n",
      "product: [28 10 72 64]\n",
      "difference: [ -3   3  -6 -12]\n",
      "quotient: [0.57142857 2.5        0.5        0.25      ]\n"
     ]
    }
   ],
   "source": [
    "# printing the values of the mathematical operations\n",
    "print('sum:', array_sum)\n",
    "print('product:', product)\n",
    "print('difference:', difference)\n",
    "print('quotient:', quotient)"
   ]
  },
  {
   "cell_type": "markdown",
   "id": "03c8d9fb",
   "metadata": {},
   "source": [
    "\n",
    "#### Task 5\n",
    "##### Compute the absolute value of each entry in the following array: `[5, -8, -66, 4]`.\n",
    "##### Assign the operation to `abs_values` variable. Print the result.\n",
    "##### Print the length of the `abs_values` array.\n",
    "##### Print the 3rd element of `abs_values`.\n"
   ]
  },
  {
   "cell_type": "markdown",
   "id": "95e615fd",
   "metadata": {},
   "source": [
    "#### Result:\n"
   ]
  },
  {
   "cell_type": "code",
   "execution_count": 7,
   "id": "3222c8bd",
   "metadata": {},
   "outputs": [
    {
     "name": "stdout",
     "output_type": "stream",
     "text": [
      "[ 5  8 66  4]\n",
      "4\n",
      "66\n"
     ]
    }
   ],
   "source": [
    "# Using the np.abs() absolute number function to get rid of the negative values\n",
    "abs_values = (np.abs([5, -8, -66, 4]))\n",
    "print(abs_values)\n",
    "print(len(abs_values))\n",
    "print(abs_values[2])"
   ]
  },
  {
   "cell_type": "markdown",
   "id": "fe8e1098",
   "metadata": {},
   "source": [
    "#### Task 6\n",
    "##### Print all numbers greater than 25 in `abs_values` array.\n"
   ]
  },
  {
   "cell_type": "markdown",
   "id": "097a5d7d",
   "metadata": {},
   "source": [
    "#### Result:\n"
   ]
  },
  {
   "cell_type": "code",
   "execution_count": 8,
   "id": "8d1085e1",
   "metadata": {},
   "outputs": [
    {
     "name": "stdout",
     "output_type": "stream",
     "text": [
      "[66]\n"
     ]
    }
   ],
   "source": [
    "# filtering the abs_values array for values that greater than 25\n",
    "print(abs_values[abs_values > 25])"
   ]
  },
  {
   "cell_type": "markdown",
   "id": "e4da55e2",
   "metadata": {},
   "source": [
    "#### Please refer to module 2 of DataWranglingInPython - DataWranglingWithNumpy for Tasks 7-8\n",
    "#### Task 7\n",
    "##### Create the following matrix with 3 rows and assign to variable `mat1`:\n"
   ]
  },
  {
   "cell_type": "markdown",
   "id": "12e61480",
   "metadata": {},
   "source": [
    "- [4, 5, 6]\n",
    "- [8, 3, 2]\n",
    "- [6, 7, 3]\n",
    "\n"
   ]
  },
  {
   "cell_type": "markdown",
   "id": "c919ee43",
   "metadata": {},
   "source": [
    "##### Find the shape of the matrix.\n"
   ]
  },
  {
   "cell_type": "markdown",
   "id": "60540a6e",
   "metadata": {},
   "source": [
    "#### Result:\n"
   ]
  },
  {
   "cell_type": "code",
   "execution_count": 9,
   "id": "a5861fdf",
   "metadata": {},
   "outputs": [
    {
     "name": "stdout",
     "output_type": "stream",
     "text": [
      "(3, 3)\n"
     ]
    }
   ],
   "source": [
    "# Creating a matrix of the 3 arrays listed above and then printing the shape of the matrix\n",
    "mat1 = np.array([[4, 5, 6],[8, 3, 2],[6, 7, 3]])\n",
    "print(mat1.shape)"
   ]
  },
  {
   "cell_type": "markdown",
   "id": "a5551af2",
   "metadata": {},
   "source": [
    "#### Task 8\n",
    "##### Find the value in the 2nd row and 3rd column of `mat1`.\n",
    "##### Print the 2nd and 3rd rows.\n",
    "##### Print the 1st column and rows up to the 2nd row.\n",
    "##### Print all columns starting with column 2.\n"
   ]
  },
  {
   "cell_type": "markdown",
   "id": "2b46ff85",
   "metadata": {},
   "source": [
    "#### Result:\n"
   ]
  },
  {
   "cell_type": "code",
   "execution_count": 10,
   "id": "140d166f",
   "metadata": {},
   "outputs": [
    {
     "name": "stdout",
     "output_type": "stream",
     "text": [
      "2\n",
      "[8 3 2]\n",
      "[6 7 3]\n",
      "[[5 6]\n",
      " [3 2]\n",
      " [7 3]]\n"
     ]
    }
   ],
   "source": [
    "# Matrix indexing\n",
    "print(mat1[1,2])\n",
    "print(mat1[1])\n",
    "print(mat1[2])\n",
    "print(mat1[:,1:])"
   ]
  },
  {
   "cell_type": "markdown",
   "id": "6a6389d4",
   "metadata": {},
   "source": [
    "#### Bonus Task 1\n"
   ]
  },
  {
   "cell_type": "markdown",
   "id": "f3013436",
   "metadata": {},
   "source": [
    "##### Filter and print the elements greater than 5 in `mat1`.\n",
    "##### Use a Boolean mask to filter all elements <= 5 and set them to 0.\n",
    "##### Print the resulting matrix.\n"
   ]
  },
  {
   "cell_type": "markdown",
   "id": "7a5c53bb",
   "metadata": {},
   "source": [
    "#### Result:\n"
   ]
  },
  {
   "cell_type": "code",
   "execution_count": 12,
   "id": "76742316",
   "metadata": {},
   "outputs": [
    {
     "name": "stdout",
     "output_type": "stream",
     "text": [
      "[6 8 6 7]\n",
      "[[0 0 6]\n",
      " [8 0 0]\n",
      " [6 7 0]]\n"
     ]
    }
   ],
   "source": [
    "# Filtering the matrix for values greater than 5 and then setting all values that are 5 and smaller to 0\n",
    "print(mat1[mat1 > 5])\n",
    "\n",
    "mat1[mat1 <=5] = 0\n",
    "\n",
    "print(mat1)"
   ]
  },
  {
   "cell_type": "markdown",
   "id": "8cf7067b",
   "metadata": {},
   "source": [
    "#### Bonus Task 2\n",
    "##### Use the `linspace` function to create a NumPy array of 16 numbers between 10 and 25 (inclusive) called `arr4`.\n",
    "##### Reshape the array to a matrix of shape (4,4) and print it.\n",
    "##### Reshape the array to a matrix with 8 rows and let Python infer the number of columns.\n"
   ]
  },
  {
   "cell_type": "markdown",
   "id": "be5583d7",
   "metadata": {},
   "source": [
    "#### Result:\n"
   ]
  },
  {
   "cell_type": "code",
   "execution_count": 13,
   "id": "c733fcd3",
   "metadata": {},
   "outputs": [],
   "source": [
    "# Creating an array (arr4) that contains 16 values between 10 and 25, evenly spaced\n",
    "arr4 = np.linspace(10,25,16)"
   ]
  },
  {
   "cell_type": "code",
   "execution_count": 14,
   "id": "9cd50815-a6e2-456f-b00c-6863674a3938",
   "metadata": {},
   "outputs": [
    {
     "data": {
      "text/plain": [
       "array([10., 11., 12., 13., 14., 15., 16., 17., 18., 19., 20., 21., 22.,\n",
       "       23., 24., 25.])"
      ]
     },
     "execution_count": 14,
     "metadata": {},
     "output_type": "execute_result"
    }
   ],
   "source": [
    "arr4"
   ]
  },
  {
   "cell_type": "code",
   "execution_count": 15,
   "id": "c4daaba7-effa-4075-ba8e-d8108e7c2441",
   "metadata": {},
   "outputs": [
    {
     "data": {
      "text/plain": [
       "array([[10., 11., 12., 13.],\n",
       "       [14., 15., 16., 17.],\n",
       "       [18., 19., 20., 21.],\n",
       "       [22., 23., 24., 25.]])"
      ]
     },
     "execution_count": 15,
     "metadata": {},
     "output_type": "execute_result"
    }
   ],
   "source": [
    "# reshaping the array into a 4x4 matrix\n",
    "arr4.reshape([4,4])"
   ]
  },
  {
   "cell_type": "code",
   "execution_count": 17,
   "id": "58e53be8-5e16-40f5-b870-b6c10e2448dd",
   "metadata": {},
   "outputs": [
    {
     "data": {
      "text/plain": [
       "array([[10., 11.],\n",
       "       [12., 13.],\n",
       "       [14., 15.],\n",
       "       [16., 17.],\n",
       "       [18., 19.],\n",
       "       [20., 21.],\n",
       "       [22., 23.],\n",
       "       [24., 25.]])"
      ]
     },
     "execution_count": 17,
     "metadata": {},
     "output_type": "execute_result"
    }
   ],
   "source": [
    "# reshaping the matrix into an 8x2 matrix\n",
    "arr4.reshape([8,-1])"
   ]
  }
 ],
 "metadata": {
  "kernelspec": {
   "display_name": "Python 3",
   "language": "python",
   "name": "python3"
  },
  "language": "python",
  "language_info": {
   "codemirror_mode": {
    "name": "ipython",
    "version": 3
   },
   "file_extension": ".py",
   "mimetype": "text/x-python",
   "name": "python",
   "nbconvert_exporter": "python",
   "pygments_lexer": "ipython3",
   "version": "3.7.12"
  }
 },
 "nbformat": 4,
 "nbformat_minor": 5
}
