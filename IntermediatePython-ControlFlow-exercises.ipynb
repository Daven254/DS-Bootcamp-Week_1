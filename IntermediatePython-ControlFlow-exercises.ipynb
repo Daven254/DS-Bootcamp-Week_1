{
 "cells": [
  {
   "cell_type": "code",
   "execution_count": null,
   "id": "b0cdb382",
   "metadata": {},
   "outputs": [],
   "source": []
  },
  {
   "cell_type": "markdown",
   "id": "4ba4530b",
   "metadata": {},
   "source": [
    "#### Please refer to module 1 of IntermediatePython - ControlFlow for Tasks 1-4 \n",
    "#### Task 1\n",
    "##### Let `x` be equal to -56.\n",
    "##### Build a conditional statement that checks whether the absolute value of `x` is greater than or equal to `x*(-1)` OR  whether `x` is less than `100/(-2)`.\n",
    "##### Print the result.\n",
    "#### Result:\n"
   ]
  },
  {
   "cell_type": "code",
   "execution_count": 2,
   "id": "1b469641",
   "metadata": {},
   "outputs": [
    {
     "name": "stdout",
     "output_type": "stream",
     "text": [
      "conditional statement is True\n"
     ]
    }
   ],
   "source": [
    "# setting x = -56\n",
    "\n",
    "x = -56\n",
    "\n",
    "# conditional as defined by task 1\n",
    "conditional = (abs(x) >= x*-1 or x < 100/-2)\n",
    "print('conditional statement is',conditional)"
   ]
  },
  {
   "cell_type": "markdown",
   "id": "aa5d50c5",
   "metadata": {},
   "source": [
    "#### Task 2\n",
    "##### Assign the conditional statement from Task 1 to a variable `condition_1`.\n",
    "##### Create a variable `condition_2` and assign it the following conditional expression: check if string `\"ABC\"` is equal to string `\"abc\"`.\n",
    "##### Let `output` variable be the output of the following compound expression: check whether `condition_1` and `condition_2` both hold.\n",
    "##### Print the `output` variable.\n",
    "##### Which of the two conditions is `False`? Why do you think that's the case?\n",
    "#### Result:\n"
   ]
  },
  {
   "cell_type": "code",
   "execution_count": 3,
   "id": "b276c1fd",
   "metadata": {},
   "outputs": [
    {
     "name": "stdout",
     "output_type": "stream",
     "text": [
      "compound conditional statement named output is False\n"
     ]
    }
   ],
   "source": [
    "# setting two conditional statements for a compound statement\n",
    "\n",
    "condition_1 = conditional\n",
    "condition_2 = 'ABC' == 'abc'\n",
    "\n",
    "# checking the boolean value of the compound statement named output\n",
    "output = condition_1 and condition_2\n",
    "print('compound conditional statement named output is',output)"
   ]
  },
  {
   "cell_type": "markdown",
   "id": "c97c714d",
   "metadata": {},
   "source": [
    "#### Task 3\n",
    "##### Create a variable `x`. Assign any number to `x`.\n",
    "##### Now build the following `if-else` statement to check if `x` is an `odd` or an `even` number: If `x` is even, print \"x is even\"; otherwise print \"x is odd\".\n",
    "##### *Hint: you can find out if a number is odd or even by using the modulus symbol %.*\n",
    "##### Try out different values of `x` and check what output you get when running the `if-else` block.\n",
    "#### Result:\n"
   ]
  },
  {
   "cell_type": "code",
   "execution_count": 4,
   "id": "d5fc61b6",
   "metadata": {},
   "outputs": [
    {
     "name": "stdout",
     "output_type": "stream",
     "text": [
      "x is 54 and is even\n",
      "x is 99 and is odd\n"
     ]
    }
   ],
   "source": [
    "# assigning 54 to x\n",
    "x = 54\n",
    "\n",
    "\n",
    "# checking if 54 is even or odd\n",
    "if x%2 == 0:\n",
    "    print(f'x is {x} and is even')\n",
    "else:\n",
    "    print(f'x is {x} and is odd')\n",
    "    \n",
    "    \n",
    "# assigning 99 to x\n",
    "x = 99\n",
    "\n",
    "# checking if 99 is even or odd\n",
    "if x%2 == 0:\n",
    "    print(f'x is {x} and is even')\n",
    "else:\n",
    "    print(f'x is {x} and is odd')\n",
    "    "
   ]
  },
  {
   "cell_type": "markdown",
   "id": "6c1c7791",
   "metadata": {},
   "source": [
    "#### Task 4    \n",
    "##### Let variable `item_price` be equal to any number between 1000 and 3000.\n",
    "##### Build the following nested `if-else` statement:\n",
    "##### If `item_price` is less than 3000, then check whether it is less than 1800,\n",
    "#####     If it is less than or equal to 1800, then print \"I'll buy 2 items\"\n",
    "#####     Otherwise, print \"I'll buy 1 item\"\n",
    "##### If `item_price` is not less than 3000, print \"This item is too expensive for me!\"\n",
    "##### Try out a few different values within the same range, check the output each time.\n",
    "#### Result:\n"
   ]
  },
  {
   "cell_type": "code",
   "execution_count": 5,
   "id": "5a985132",
   "metadata": {},
   "outputs": [
    {
     "name": "stdout",
     "output_type": "stream",
     "text": [
      "I'll buy 2 items\n"
     ]
    }
   ],
   "source": [
    "# setting item_price\n",
    "item_price = 1001\n",
    "\n",
    "# establishing conditional statements to determine if the item is worth buying and if so, how much is to be bought\n",
    "if item_price > 3000:\n",
    "    print('This item is too expensive for me!')\n",
    "else:\n",
    "    if item_price < 1800:\n",
    "        print('I\\'ll buy 2 items')\n",
    "    else:\n",
    "        print('I\\'ll buy 1 item')"
   ]
  },
  {
   "cell_type": "markdown",
   "id": "94a14dba",
   "metadata": {},
   "source": [
    "#### Please refer to module 2 of IntermediatePython - ControlFlow for Tasks 5-8 \n",
    "#### Task 5\n",
    "##### Make a shopping list that consists of following items and assign it to a variable `shopping_list`:\n"
   ]
  },
  {
   "cell_type": "markdown",
   "id": "d86f5810",
   "metadata": {},
   "source": [
    "- milk\n",
    "- eggs\n",
    "- peppers\n",
    "- cheese\n",
    "- tomatoes\n",
    "\n"
   ]
  },
  {
   "cell_type": "markdown",
   "id": "b7a2928a",
   "metadata": {},
   "source": [
    "##### For each of the items in the list, do the following using a single `for` loop:\n"
   ]
  },
  {
   "cell_type": "markdown",
   "id": "2b2c78fb",
   "metadata": {},
   "source": [
    "- Print \"Add [item] to cart\"\n",
    "- Print \"Pay for [item]\"\n",
    "- Print \"Put [item] into shopping bag\"\n",
    "\n"
   ]
  },
  {
   "cell_type": "markdown",
   "id": "14f0a45b",
   "metadata": {},
   "source": [
    "##### What do you think this is a recipe for? :)\n",
    "#### Result:\n"
   ]
  },
  {
   "cell_type": "code",
   "execution_count": 6,
   "id": "715742be",
   "metadata": {},
   "outputs": [
    {
     "name": "stdout",
     "output_type": "stream",
     "text": [
      "Add milk to cart\n",
      "Pay for milk\n",
      "Put milk into shopping bag\n",
      "Add eggs to cart\n",
      "Pay for eggs\n",
      "Put eggs into shopping bag\n",
      "Add peppers to cart\n",
      "Pay for peppers\n",
      "Put peppers into shopping bag\n",
      "Add cheese to cart\n",
      "Pay for cheese\n",
      "Put cheese into shopping bag\n",
      "Add tomatoes to cart\n",
      "Pay for tomatoes\n",
      "Put tomatoes into shopping bag\n"
     ]
    }
   ],
   "source": [
    "# creating shopping list\n",
    "shopping_list = ['milk','eggs','peppers','cheese','tomatoes']\n",
    "\n",
    "# doing tasks with this list by a for loop\n",
    "for x in shopping_list:\n",
    "    print(f'Add {x} to cart')\n",
    "    print(f'Pay for {x}')\n",
    "    print(f'Put {x} into shopping bag')"
   ]
  },
  {
   "cell_type": "markdown",
   "id": "e34a90ad",
   "metadata": {},
   "source": [
    "#### Task 6\n"
   ]
  },
  {
   "cell_type": "markdown",
   "id": "aaeb80a8",
   "metadata": {},
   "source": [
    "##### As in Task 5, create a  `for` loop. \n",
    "##### This time, make one that looks up the item in the list using its index.\n"
   ]
  },
  {
   "cell_type": "markdown",
   "id": "3708e75d",
   "metadata": {},
   "source": [
    "##### Hint: make use of a variable like `list_length` that captures the length of the `shopping_list` variable! \n",
    "#### Result:\n"
   ]
  },
  {
   "cell_type": "code",
   "execution_count": 1,
   "id": "d2a9ca15",
   "metadata": {},
   "outputs": [
    {
     "name": "stdout",
     "output_type": "stream",
     "text": [
      "Add milk to cart\n",
      "Pay for milk\n",
      "Put milk into shopping bag\n",
      "Add eggs to cart\n",
      "Pay for eggs\n",
      "Put eggs into shopping bag\n",
      "Add peppers to cart\n",
      "Pay for peppers\n",
      "Put peppers into shopping bag\n",
      "Add cheese to cart\n",
      "Pay for cheese\n",
      "Put cheese into shopping bag\n",
      "Add tomatoes to cart\n",
      "Pay for tomatoes\n",
      "Put tomatoes into shopping bag\n"
     ]
    }
   ],
   "source": [
    "# using a for loop again, but using indices of each element instead of iterating through the list by object\n",
    "shopping_list = ['milk','eggs','peppers','cheese','tomatoes']\n",
    "\n",
    "list_length = len(shopping_list)\n",
    "\n",
    "for x in range(list_length):\n",
    "    print(f'Add {shopping_list[x]} to cart')\n",
    "    print(f'Pay for {shopping_list[x]}')\n",
    "    print(f'Put {shopping_list[x]} into shopping bag')"
   ]
  },
  {
   "cell_type": "markdown",
   "id": "4cae66a7",
   "metadata": {},
   "source": [
    "#### Task 7\n",
    "##### Create a list `num_list` of all values between 50 and 130 (not including 130)\n",
    "##### that are evenly divisible by 21 (i.e. where the remainder = 0).\n",
    "##### Create using list comprehension.\n",
    "##### Hint: What is the syntax for returning the remainder?\n",
    "#### Result:\n"
   ]
  },
  {
   "cell_type": "code",
   "execution_count": 9,
   "id": "098aac06",
   "metadata": {},
   "outputs": [
    {
     "name": "stdout",
     "output_type": "stream",
     "text": [
      "[63, 84, 105, 126]\n"
     ]
    }
   ],
   "source": [
    "# using list comprehension to create a list \n",
    "\n",
    "num_list = [x for x in range(50,130) if x % 21 == 0]\n",
    "print(num_list)\n",
    "\n"
   ]
  },
  {
   "cell_type": "markdown",
   "id": "bc210f3d",
   "metadata": {},
   "source": [
    "#### Task 8\n",
    "##### Use the dictionary `family` given below.\n",
    "##### Print the name and the age of each member of the family.\n"
   ]
  },
  {
   "cell_type": "markdown",
   "id": "086b7792",
   "metadata": {},
   "source": [
    "#### family = {'Max':10, 'Marie':12, 'John':40, 'Jane':38}\n",
    "#### Result:\n"
   ]
  },
  {
   "cell_type": "code",
   "execution_count": 10,
   "id": "203dfa3f",
   "metadata": {},
   "outputs": [
    {
     "name": "stdout",
     "output_type": "stream",
     "text": [
      "Max 10\n",
      "Marie 12\n",
      "John 40\n",
      "Jane 38\n"
     ]
    }
   ],
   "source": [
    "# creating a printing from a dictionary\n",
    "\n",
    "family = {'Max':10, 'Marie':12, 'John':40, 'Jane':38}\n",
    "\n",
    "\n",
    "for key,value in family.items():\n",
    "    print(key,value)"
   ]
  },
  {
   "cell_type": "markdown",
   "id": "5fee8878",
   "metadata": {},
   "source": [
    "#### Please refer to module 3 of IntermediatePython - ControlFlow for Tasks 9-11 \n",
    "#### Task 9\n",
    "##### Re-write the loop from Task 5 using the `while` construct.\n",
    "#### Result:\n"
   ]
  },
  {
   "cell_type": "code",
   "execution_count": 11,
   "id": "624a4cf7",
   "metadata": {},
   "outputs": [
    {
     "name": "stdout",
     "output_type": "stream",
     "text": [
      "Add milk to cart\n",
      "Pay for milk\n",
      "Put milk into shopping bag\n",
      "Add eggs to cart\n",
      "Pay for eggs\n",
      "Put eggs into shopping bag\n",
      "Add peppers to cart\n",
      "Pay for peppers\n",
      "Put peppers into shopping bag\n",
      "Add cheese to cart\n",
      "Pay for cheese\n",
      "Put cheese into shopping bag\n",
      "Add tomatoes to cart\n",
      "Pay for tomatoes\n",
      "Put tomatoes into shopping bag\n"
     ]
    }
   ],
   "source": [
    "# iterating indexes using a while loop through the shopping cart\n",
    "shopping_list = ['milk','eggs','peppers','cheese','tomatoes']\n",
    "\n",
    "list_length = len(shopping_list)\n",
    "\n",
    "x = 0\n",
    "while x < list_length:\n",
    "    print(f'Add {shopping_list[x]} to cart')\n",
    "    print(f'Pay for {shopping_list[x]}')\n",
    "    print(f'Put {shopping_list[x]} into shopping bag')\n",
    "    \n",
    "    x += 1"
   ]
  },
  {
   "cell_type": "markdown",
   "id": "1c871d01",
   "metadata": {},
   "source": [
    "#### Task 10\n",
    "##### Create a variable `my_list` = ['introduction', 'to', 'programming', 'in', 'python']\n",
    "##### Use a `while` loop to print all elements in the list, from the first to the last.\n"
   ]
  },
  {
   "cell_type": "markdown",
   "id": "26950e0e",
   "metadata": {},
   "source": [
    "#### Result:\n"
   ]
  },
  {
   "cell_type": "code",
   "execution_count": 12,
   "id": "19beb97a",
   "metadata": {},
   "outputs": [
    {
     "name": "stdout",
     "output_type": "stream",
     "text": [
      "introduction\n",
      "to\n",
      "programming\n",
      "in\n",
      "python\n"
     ]
    }
   ],
   "source": [
    "# iterating using a while loop\n",
    "\n",
    "my_list = ['introduction','to','programming','in','python']\n",
    "\n",
    "index = 0\n",
    "list_len = len(my_list)\n",
    "\n",
    "while (index < list_len):\n",
    "    print(my_list[index])\n",
    "    index += 1"
   ]
  },
  {
   "cell_type": "markdown",
   "id": "c821974d",
   "metadata": {},
   "source": [
    "#### Task 11\n"
   ]
  },
  {
   "cell_type": "markdown",
   "id": "77af80f5",
   "metadata": {},
   "source": [
    "##### Create a list of 30 random integers from 1 to 100 using either for loop or list comprehension.\n",
    "##### Hint: random.randint(1, 100) will give you 1 random integer in 1 to 100.\n",
    "##### Create a variable `my_num` = 44.\n",
    "##### Use a while loop to print all numbers in `numbers` .\n",
    "##### If `my_num` is found, terminate the loop and print: Found my number!\n",
    "##### Hint: use break\n"
   ]
  },
  {
   "cell_type": "code",
   "execution_count": 2,
   "id": "430ee17b-ee39-44cd-ade6-b05b697b7279",
   "metadata": {},
   "outputs": [],
   "source": [
    "# creating a list of random integers\n",
    "\n",
    "import random as rand\n",
    "\n",
    "random_list = rand.sample(range(1, 100), 10)\n",
    "print(random_list)"
   ]
  },
  {
   "cell_type": "markdown",
   "id": "82007715",
   "metadata": {},
   "source": [
    "#### Result:\n"
   ]
  },
  {
   "cell_type": "code",
   "execution_count": 5,
   "id": "8e512f52",
   "metadata": {},
   "outputs": [
    {
     "name": "stdout",
     "output_type": "stream",
     "text": [
      "My number is not in the list\n"
     ]
    }
   ],
   "source": [
    "# setting my_num to 44\n",
    "my_num = 44\n",
    "\n",
    "\n",
    "# checking if my_num is in the list of random numbers\n",
    "list_len = len(random_list)\n",
    "index = 0\n",
    "value_found = False\n",
    "while index < list_len:\n",
    "    if my_num == random_list[index]:\n",
    "            value_found = True\n",
    "\n",
    "    index += 1\n",
    "if(value_found):\n",
    "    print('Found my number!')\n",
    "else:\n",
    "    print('My number is not in the list')"
   ]
  },
  {
   "cell_type": "code",
   "execution_count": null,
   "id": "c17efbc6-37b9-4edd-ade1-65052a93faf2",
   "metadata": {},
   "outputs": [],
   "source": []
  }
 ],
 "metadata": {
  "kernelspec": {
   "display_name": "Python 3",
   "language": "python",
   "name": "python3"
  },
  "language": "python",
  "language_info": {
   "codemirror_mode": {
    "name": "ipython",
    "version": 3
   },
   "file_extension": ".py",
   "mimetype": "text/x-python",
   "name": "python",
   "nbconvert_exporter": "python",
   "pygments_lexer": "ipython3",
   "version": "3.7.12"
  }
 },
 "nbformat": 4,
 "nbformat_minor": 5
}
