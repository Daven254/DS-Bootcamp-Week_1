{
 "cells": [
  {
   "cell_type": "code",
   "execution_count": 11,
   "id": "3d83519b-3289-4a87-91c0-dce6adab03cb",
   "metadata": {},
   "outputs": [],
   "source": [
    "# import statements\n",
    "\n",
    "import random\n",
    "import math"
   ]
  },
  {
   "cell_type": "markdown",
   "id": "a8604c69",
   "metadata": {},
   "source": [
    "#### Please refer to module 3 of IntroToPython- Basics for Tasks 1-4 \n",
    "#### Task 1\n",
    "##### Create two variables `name` and `age` and assign values to the variables with your name and age.\n",
    "##### Print `name` and `age`.\n",
    "#### Result:\n"
   ]
  },
  {
   "cell_type": "code",
   "execution_count": 12,
   "id": "8246bff7",
   "metadata": {},
   "outputs": [
    {
     "name": "stdout",
     "output_type": "stream",
     "text": [
      "Daven: 28\n"
     ]
    }
   ],
   "source": [
    "#creating name and age variables\n",
    "name = 'Daven'\n",
    "age = 28\n",
    "\n",
    "print(name+':',age)"
   ]
  },
  {
   "cell_type": "markdown",
   "id": "3f0dd26e",
   "metadata": {},
   "source": [
    "#### Task 2\n",
    "##### Assign variable `x` as your age and variable `y` as your groupmate's age.\n",
    "##### Print `x` and `y`.\n",
    "##### Swap and print `x` and `y`.\n",
    "#### Result:\n"
   ]
  },
  {
   "cell_type": "code",
   "execution_count": 13,
   "id": "d64e960c",
   "metadata": {},
   "outputs": [
    {
     "name": "stdout",
     "output_type": "stream",
     "text": [
      "28\n",
      "25\n",
      "25\n",
      "28\n"
     ]
    }
   ],
   "source": [
    "#Creating age variable for myself and random integer age to simulate partner\n",
    "x = age\n",
    "y = random.randint(0,50)\n",
    "\n",
    "print(x)\n",
    "print(y)\n",
    "\n",
    "x,y = y,x\n",
    "\n",
    "print(x)\n",
    "print(y)"
   ]
  },
  {
   "cell_type": "markdown",
   "id": "f1c9dd7e",
   "metadata": {},
   "source": [
    "#### Task 3\n",
    "##### Add `x` and `y` and assign the sum to `z`.\n",
    "##### Print `z`.\n",
    "#### Result:\n"
   ]
  },
  {
   "cell_type": "code",
   "execution_count": 14,
   "id": "aea5009f",
   "metadata": {},
   "outputs": [
    {
     "name": "stdout",
     "output_type": "stream",
     "text": [
      "53\n"
     ]
    }
   ],
   "source": [
    "# Conducting addition of variables x and y to create variable z\n",
    "\n",
    "z = x+y\n",
    "print(z)"
   ]
  },
  {
   "cell_type": "markdown",
   "id": "46ae9f14",
   "metadata": {},
   "source": [
    "#### Task 4\n",
    "##### Delete all the variables we have created in this exercise.\n",
    "##### Print `age` now.\n",
    "##### What is the output you are getting and why?\n",
    "#### Result:\n"
   ]
  },
  {
   "cell_type": "code",
   "execution_count": 15,
   "id": "1d1a9a18",
   "metadata": {},
   "outputs": [],
   "source": [
    "# deleting pointer variables x, y, z, and age\n",
    "del x,y,z,age"
   ]
  },
  {
   "cell_type": "code",
   "execution_count": 17,
   "id": "1ac9df76-7c98-4dcb-a034-b334cf4919be",
   "metadata": {},
   "outputs": [
    {
     "ename": "NameError",
     "evalue": "name 'age' is not defined",
     "output_type": "error",
     "traceback": [
      "\u001b[0;31m---------------------------------------------------------------------------\u001b[0m",
      "\u001b[0;31mNameError\u001b[0m                                 Traceback (most recent call last)",
      "\u001b[0;32m<ipython-input-17-d70e1e08ee03>\u001b[0m in \u001b[0;36m<module>\u001b[0;34m\u001b[0m\n\u001b[1;32m      1\u001b[0m \u001b[0;31m# testing deletion of age variable\u001b[0m\u001b[0;34m\u001b[0m\u001b[0;34m\u001b[0m\u001b[0;34m\u001b[0m\u001b[0m\n\u001b[0;32m----> 2\u001b[0;31m \u001b[0mprint\u001b[0m\u001b[0;34m(\u001b[0m\u001b[0mage\u001b[0m\u001b[0;34m)\u001b[0m\u001b[0;34m\u001b[0m\u001b[0;34m\u001b[0m\u001b[0m\n\u001b[0m",
      "\u001b[0;31mNameError\u001b[0m: name 'age' is not defined"
     ]
    }
   ],
   "source": [
    "# testing deletion of age variable\n",
    "print(age)"
   ]
  },
  {
   "cell_type": "markdown",
   "id": "07bccdc3",
   "metadata": {},
   "source": [
    "#### Please refer to module 4 of IntroToPython- Basics for Tasks 5-6\n",
    "#### Task 5\n",
    "##### Ana has a circular ring which has a radius of  5 inches. \n",
    "##### She wants to use Python to find various measurements of the circular ring.\n",
    "##### Assign 5 to the variable `radius`, 3.14 to `pi` and Ana to `name`.\n",
    "##### Print the variable types of all the variables we have just assigned.\n",
    "##### Help Ana find the area and perimeter of the circular ring.\n",
    "##### Assign the outputs to variables `area` and `perimeter` respectively.\n",
    "##### *Hint: Area = pi x radius x radius* \n",
    "##### *Hint: Perimeter = 2 x pi  x radius*\n",
    "#### Result:\n"
   ]
  },
  {
   "cell_type": "code",
   "execution_count": 18,
   "id": "0e578d54",
   "metadata": {},
   "outputs": [
    {
     "name": "stdout",
     "output_type": "stream",
     "text": [
      "5 <class 'int'>\n",
      "3.14 <class 'float'>\n",
      "anna <class 'str'>\n"
     ]
    }
   ],
   "source": [
    "# doing math according to the task\n",
    "r = 5\n",
    "pi_var = math.pi\n",
    "name = 'anna'\n",
    "\n",
    "\n",
    "# printing my variable assignments\n",
    "print(r,type(r))\n",
    "print(round(pi_var,2),type(pi_var))\n",
    "print(name, type(name))\n"
   ]
  },
  {
   "cell_type": "code",
   "execution_count": 19,
   "id": "21f0c178-36c5-4f27-9cc6-eb8cda70a7c8",
   "metadata": {},
   "outputs": [
    {
     "name": "stdout",
     "output_type": "stream",
     "text": [
      "area: 78.54\n",
      "perimeter: 31.42\n"
     ]
    }
   ],
   "source": [
    "# Solving area and perimeter based on radius\n",
    "area = round(pi_var * r ** 2,2)\n",
    "perimeter = round(2 * pi_var * r,2)\n",
    "\n",
    "print('area:', area)\n",
    "print('perimeter:',perimeter)"
   ]
  },
  {
   "cell_type": "markdown",
   "id": "be621902",
   "metadata": {},
   "source": [
    "#### Task 6\n",
    "##### Create two variables `f_name` and `l_name`, and assign them values of your first and last name respectively.\n",
    "##### Combine both names into a new variable called `full_name` and print it. Don't forget to add the `\" \"` separator!\n"
   ]
  },
  {
   "cell_type": "markdown",
   "id": "055d1ac0",
   "metadata": {},
   "source": [
    "##### Print the length of your name.\n",
    "##### Slice the first three letters off your last name and print the result.\n",
    "#### Result:\n"
   ]
  },
  {
   "cell_type": "code",
   "execution_count": 20,
   "id": "80d1ef85-85e6-4e9c-9187-a3077f33d24c",
   "metadata": {},
   "outputs": [
    {
     "name": "stdout",
     "output_type": "stream",
     "text": [
      "daven shah\n",
      "10\n",
      "h\n"
     ]
    }
   ],
   "source": [
    "# string operations\n",
    "f_name, l_name = 'daven','shah'\n",
    "\n",
    "full_name = f_name + \" \" + l_name\n",
    "\n",
    "print(full_name)\n",
    "\n",
    "print(len(full_name))\n",
    "\n",
    "slice3 = l_name[3:]\n",
    "print(slice3)"
   ]
  }
 ],
 "metadata": {
  "kernelspec": {
   "display_name": "Python 3",
   "language": "python",
   "name": "python3"
  },
  "language": "python",
  "language_info": {
   "codemirror_mode": {
    "name": "ipython",
    "version": 3
   },
   "file_extension": ".py",
   "mimetype": "text/x-python",
   "name": "python",
   "nbconvert_exporter": "python",
   "pygments_lexer": "ipython3",
   "version": "3.7.12"
  }
 },
 "nbformat": 4,
 "nbformat_minor": 5
}
