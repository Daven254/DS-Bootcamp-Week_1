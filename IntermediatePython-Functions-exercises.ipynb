{
 "cells": [
  {
   "cell_type": "code",
   "execution_count": null,
   "id": "2b24981e",
   "metadata": {},
   "outputs": [],
   "source": []
  },
  {
   "cell_type": "markdown",
   "id": "a5dc8986",
   "metadata": {},
   "source": [
    "#### Please refer to module 1 of IntroToPython - Functions for Tasks 1-5\n",
    "#### Task 1\n",
    "##### Create a simple function `PrintHello` that prints the message \"Hello World!\"\n",
    "##### Call the function to test whether it is working properly.\n"
   ]
  },
  {
   "cell_type": "markdown",
   "id": "a706fa01",
   "metadata": {},
   "source": [
    "#### Result:\n"
   ]
  },
  {
   "cell_type": "code",
   "execution_count": 2,
   "id": "4ede780f",
   "metadata": {},
   "outputs": [],
   "source": [
    "def PrintHello():\n",
    "    print('Hello World!')"
   ]
  },
  {
   "cell_type": "code",
   "execution_count": 3,
   "id": "a76f7496-0c26-4013-9cab-09799b3f07d5",
   "metadata": {},
   "outputs": [
    {
     "name": "stdout",
     "output_type": "stream",
     "text": [
      "Hello World!\n"
     ]
    }
   ],
   "source": [
    "PrintHello()"
   ]
  },
  {
   "cell_type": "markdown",
   "id": "ab736289",
   "metadata": {},
   "source": [
    "#### Task 2\n",
    "##### Modify your `PrintHello` function so that it takes a person's name as an argument and prints \"Hello, [name]!\".\n",
    "##### Call the function to test whether it is working properly. Try out a few different names. \n"
   ]
  },
  {
   "cell_type": "markdown",
   "id": "a857a4ea",
   "metadata": {},
   "source": [
    "#### Result:\n"
   ]
  },
  {
   "cell_type": "code",
   "execution_count": 4,
   "id": "d96c2564",
   "metadata": {},
   "outputs": [],
   "source": [
    "def PrintHello(name):\n",
    "    print(f'Hello, {name}!')"
   ]
  },
  {
   "cell_type": "code",
   "execution_count": 5,
   "id": "817077b5-6290-4f00-8217-f311456cc67d",
   "metadata": {},
   "outputs": [
    {
     "name": "stdout",
     "output_type": "stream",
     "text": [
      "Hello, V!\n"
     ]
    }
   ],
   "source": [
    "PrintHello('V')"
   ]
  },
  {
   "cell_type": "code",
   "execution_count": 6,
   "id": "6ef0aeaa-c1de-45d3-a699-9d8a85111148",
   "metadata": {},
   "outputs": [
    {
     "name": "stdout",
     "output_type": "stream",
     "text": [
      "Hello, Goodbye!\n"
     ]
    }
   ],
   "source": [
    "PrintHello('Goodbye')"
   ]
  },
  {
   "cell_type": "markdown",
   "id": "29942789",
   "metadata": {},
   "source": [
    "#### Task 3\n",
    "##### Modify the function from Question 2 and name it `GetHelloMessage` so that it returns the message to be printed, but doesn't print it.\n",
    "##### Call the function, assign its output to a variable `output_message` and then print the `output_message`.\n"
   ]
  },
  {
   "cell_type": "markdown",
   "id": "5114ed93",
   "metadata": {},
   "source": [
    "#### Result:\n"
   ]
  },
  {
   "cell_type": "code",
   "execution_count": 9,
   "id": "75c0cb52",
   "metadata": {},
   "outputs": [],
   "source": [
    "def GetHelloMessage(name):\n",
    "        return 'Hello,',name +'!'"
   ]
  },
  {
   "cell_type": "code",
   "execution_count": 10,
   "id": "324ee55c-8ebe-41c7-88a6-5dec1f931b7f",
   "metadata": {},
   "outputs": [
    {
     "name": "stdout",
     "output_type": "stream",
     "text": [
      "('Hello,', 'Daven!')\n",
      "('Hello,', 'Hello!')\n"
     ]
    }
   ],
   "source": [
    "output_message = GetHelloMessage('Daven')\n",
    "print(output_message)\n",
    "\n",
    "output_message = GetHelloMessage('Hello')\n",
    "print(output_message)"
   ]
  },
  {
   "cell_type": "markdown",
   "id": "e779303e",
   "metadata": {},
   "source": [
    "#### Task 4\n",
    "##### Create a function named `find_sum` that takes two parameters `a` and `b` and returns their sum.\n",
    "##### Let `a` have a default value equal to 3 and `b` have a default value equal to 2.\n",
    "##### Call the function without providing any arguments. What value do you get as a result?\n",
    "##### Call the function by giving it the 2 arguments: 7 and 10.\n",
    "##### Call the function providing a single argument 9 to the function. What value do you get in return?\n"
   ]
  },
  {
   "cell_type": "markdown",
   "id": "d5a8d2ed",
   "metadata": {},
   "source": [
    "#### Result:\n"
   ]
  },
  {
   "cell_type": "code",
   "execution_count": 27,
   "id": "b2fa3756",
   "metadata": {},
   "outputs": [],
   "source": [
    "def find_sum(a=3,b=2):\n",
    "    return a+b"
   ]
  },
  {
   "cell_type": "code",
   "execution_count": 29,
   "id": "9adbf69b-3346-4567-b01b-2b0b8bf778bf",
   "metadata": {},
   "outputs": [
    {
     "data": {
      "text/plain": [
       "5"
      ]
     },
     "execution_count": 29,
     "metadata": {},
     "output_type": "execute_result"
    }
   ],
   "source": [
    "find_sum()"
   ]
  },
  {
   "cell_type": "code",
   "execution_count": 30,
   "id": "0f0f2d38-58eb-4f2a-a662-708d42d1c913",
   "metadata": {},
   "outputs": [
    {
     "data": {
      "text/plain": [
       "19"
      ]
     },
     "execution_count": 30,
     "metadata": {},
     "output_type": "execute_result"
    }
   ],
   "source": [
    "find_sum(7+10)"
   ]
  },
  {
   "cell_type": "code",
   "execution_count": 32,
   "id": "6646c061-fc35-4658-8977-7e2214643e2c",
   "metadata": {},
   "outputs": [
    {
     "data": {
      "text/plain": [
       "11"
      ]
     },
     "execution_count": 32,
     "metadata": {},
     "output_type": "execute_result"
    }
   ],
   "source": [
    "find_sum(9)"
   ]
  },
  {
   "cell_type": "markdown",
   "id": "3fb61a1f",
   "metadata": {},
   "source": [
    "#### Task 5\n",
    "##### Create an anonymous function that returns a reversed string and assign it to the `palindrome`.\n",
    "##### Call the function and use \"No lemon, no melon\" as the input and print the result."
   ]
  },
  {
   "cell_type": "markdown",
   "id": "765782be",
   "metadata": {},
   "source": [
    "#### Result:\n"
   ]
  },
  {
   "cell_type": "code",
   "execution_count": 22,
   "id": "1d63af42",
   "metadata": {},
   "outputs": [],
   "source": [
    "palindrome = lambda l: l[::-1]  "
   ]
  },
  {
   "cell_type": "code",
   "execution_count": 19,
   "id": "daa0c6ee-cca7-43e1-98b2-3415d0d19f2a",
   "metadata": {},
   "outputs": [
    {
     "data": {
      "text/plain": [
       "'nlmo nmlo'"
      ]
     },
     "execution_count": 21,
     "metadata": {},
     "output_type": "execute_result"
    }
   ],
   "source": [
    "palindrome('No lemon, no melon')"
   ]
  },
  {
   "cell_type": "markdown",
   "id": "0347a3d3",
   "metadata": {},
   "source": [
    "#### Bonus Task 1\n",
    "##### Create a function called `factorial` which returns the factorial value of the given number `x`.\n",
    "##### Call the function to print the factorial of 5, try a few other values.\n",
    "##### _Hint: 4 factorial (4!) = 4 x 3 x 2 x 1 = 24._\n"
   ]
  },
  {
   "cell_type": "markdown",
   "id": "a6184988",
   "metadata": {},
   "source": [
    "#### Result:\n"
   ]
  },
  {
   "cell_type": "code",
   "execution_count": 24,
   "id": "bdceca1f",
   "metadata": {},
   "outputs": [],
   "source": [
    "def factorial(n):\n",
    "    if n == 1:\n",
    "        return 1\n",
    "    else:\n",
    "        return n * factorial(n-1)"
   ]
  },
  {
   "cell_type": "code",
   "execution_count": 26,
   "id": "311739e2-016b-4308-a925-b94042e0047d",
   "metadata": {},
   "outputs": [
    {
     "data": {
      "text/plain": [
       "120"
      ]
     },
     "execution_count": 26,
     "metadata": {},
     "output_type": "execute_result"
    }
   ],
   "source": [
    "factorial(5)"
   ]
  },
  {
   "cell_type": "code",
   "execution_count": null,
   "id": "37808acd-ae3c-45cd-8a30-94198875b7d2",
   "metadata": {},
   "outputs": [],
   "source": []
  }
 ],
 "metadata": {
  "kernelspec": {
   "display_name": "Python 3",
   "language": "python",
   "name": "python3"
  },
  "language": "python",
  "language_info": {
   "codemirror_mode": {
    "name": "ipython",
    "version": 3
   },
   "file_extension": ".py",
   "mimetype": "text/x-python",
   "name": "python",
   "nbconvert_exporter": "python",
   "pygments_lexer": "ipython3",
   "version": "3.7.12"
  }
 },
 "nbformat": 4,
 "nbformat_minor": 5
}
