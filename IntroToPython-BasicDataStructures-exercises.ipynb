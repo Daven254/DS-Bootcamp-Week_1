{
 "cells": [
  {
   "cell_type": "markdown",
   "id": "c2e88981",
   "metadata": {},
   "source": [
    "#### Please refer to module 1 of IntroToPython - BasicDataStructures for Tasks 1-4 \n",
    "#### Task 1\n",
    "##### Create two lists and add the entries as mentioned below:\n",
    "##### List `first_name` should contain the following: \n",
    "##### 'Harry', 'Ron', 'Hermione', 'Dumbledore', 'Draco', 'Sirius', 'Severus'\n",
    "##### List `age` should contain the following:\n",
    "##### 16, 17, 18, 150, 17, 40, 40\n",
    "#### Result:\n"
   ]
  },
  {
   "cell_type": "code",
   "execution_count": 24,
   "id": "9331fd2f",
   "metadata": {},
   "outputs": [],
   "source": [
    "# initializing and assigning the first_name and age lists\n",
    "first_name = ['Harry', 'Ron', 'Hermione', 'Dumbledore', 'Draco', 'Sirius', 'Severus']\n",
    "age = [16, 17, 18, 150, 17, 40, 40]"
   ]
  },
  {
   "cell_type": "markdown",
   "id": "5198e828",
   "metadata": {},
   "source": [
    "#### Task 2\n",
    "##### Find the minimum values for the `first_name` and `age` lists.\n",
    "##### What is the length of the list `first_name`?\n",
    "##### Pop one element from both lists.\n",
    "##### What is the index number for entry 'Hermione'?\n",
    "#### Result:\n"
   ]
  },
  {
   "cell_type": "code",
   "execution_count": 25,
   "id": "509e4d3e",
   "metadata": {},
   "outputs": [
    {
     "data": {
      "text/plain": [
       "'Draco'"
      ]
     },
     "execution_count": 25,
     "metadata": {},
     "output_type": "execute_result"
    }
   ],
   "source": [
    "# finding the earliest name in the first_name list, alphabetically\n",
    "(min(first_name))"
   ]
  },
  {
   "cell_type": "code",
   "execution_count": 26,
   "id": "caffc679-c029-4118-9f7b-b8ef4a654b0e",
   "metadata": {},
   "outputs": [
    {
     "data": {
      "text/plain": [
       "16"
      ]
     },
     "execution_count": 26,
     "metadata": {},
     "output_type": "execute_result"
    }
   ],
   "source": [
    "# finding the youngest age in the age list\n",
    "min(age)"
   ]
  },
  {
   "cell_type": "code",
   "execution_count": 27,
   "id": "542ba9e3-74d7-418b-9434-7214e63b34e3",
   "metadata": {},
   "outputs": [
    {
     "data": {
      "text/plain": [
       "17"
      ]
     },
     "execution_count": 27,
     "metadata": {},
     "output_type": "execute_result"
    }
   ],
   "source": [
    "# Using pop to remove the last item in each list, as if it was a queue\n",
    "first_name.pop()\n",
    "age.pop()\n",
    "\n",
    "# Using pop() with an index will pop the value out at the index \n",
    "first_name.pop(4)\n",
    "age.pop(4)"
   ]
  },
  {
   "cell_type": "code",
   "execution_count": 28,
   "id": "cc3f60c3-8d43-4b33-9a95-3a4981ed9835",
   "metadata": {},
   "outputs": [
    {
     "name": "stdout",
     "output_type": "stream",
     "text": [
      "['Harry', 'Ron', 'Hermione', 'Dumbledore', 'Sirius']\n",
      "[16, 17, 18, 150, 40]\n"
     ]
    }
   ],
   "source": [
    "print(first_name)\n",
    "print(age)"
   ]
  },
  {
   "cell_type": "code",
   "execution_count": 29,
   "id": "a4444547-b74f-42c1-be34-0d8d48861f2e",
   "metadata": {},
   "outputs": [
    {
     "data": {
      "text/plain": [
       "2"
      ]
     },
     "execution_count": 29,
     "metadata": {},
     "output_type": "execute_result"
    }
   ],
   "source": [
    "# index() on the list provides us with the index that is associated with the arguement, IF it is present\n",
    "# if it is not present, we will encounter an error that the parameter is not in the list\n",
    "first_name.index('Hermione')"
   ]
  },
  {
   "cell_type": "markdown",
   "id": "74ca014d",
   "metadata": {},
   "source": [
    "#### Task 3\n",
    "##### Convert list `age` to a set and assign the result to `age_set` variable.\n",
    "##### Print the length of the set.\n",
    "#### Result:\n"
   ]
  },
  {
   "cell_type": "code",
   "execution_count": 30,
   "id": "8093cd7c",
   "metadata": {},
   "outputs": [
    {
     "name": "stdout",
     "output_type": "stream",
     "text": [
      "5\n"
     ]
    }
   ],
   "source": [
    "# converting the list to a set and getting the length of the set\n",
    "age_set = set(age)\n",
    "print(len(age_set))"
   ]
  },
  {
   "cell_type": "markdown",
   "id": "ec1deea7",
   "metadata": {},
   "source": [
    "#### Task 4\n",
    "##### Create a dictionary with list `first_name` as key and list `age` as value.\n",
    "##### Name the dictionary as `hp_dict`.\n",
    "#### Result:\n"
   ]
  },
  {
   "cell_type": "code",
   "execution_count": 31,
   "id": "f3bd9b41",
   "metadata": {},
   "outputs": [],
   "source": [
    "# Using zip() to bind first_name and age lists to each other and putting them into a dictionary\n",
    "hp_dict = dict(zip(first_name,age))"
   ]
  },
  {
   "cell_type": "code",
   "execution_count": null,
   "id": "ef87296e",
   "metadata": {},
   "outputs": [],
   "source": []
  }
 ],
 "metadata": {
  "kernelspec": {
   "display_name": "Python 3",
   "language": "python",
   "name": "python3"
  },
  "language": "python",
  "language_info": {
   "codemirror_mode": {
    "name": "ipython",
    "version": 3
   },
   "file_extension": ".py",
   "mimetype": "text/x-python",
   "name": "python",
   "nbconvert_exporter": "python",
   "pygments_lexer": "ipython3",
   "version": "3.7.12"
  }
 },
 "nbformat": 4,
 "nbformat_minor": 5
}
